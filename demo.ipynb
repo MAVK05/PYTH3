{
 "cells": [
  {
   "cell_type": "code",
   "execution_count": 5,
   "metadata": {},
   "outputs": [
    {
     "name": "stdout",
     "output_type": "stream",
     "text": [
      "{1, 2, 3}\n"
     ]
    }
   ],
   "source": [
    "a={1,2,3,4}\n",
    "a.remove(4)\n",
    "print(a)"
   ]
  },
  {
   "cell_type": "code",
   "execution_count": 10,
   "metadata": {},
   "outputs": [
    {
     "name": "stdout",
     "output_type": "stream",
     "text": [
      "{3}\n"
     ]
    }
   ],
   "source": [
    "a={1,2,3}\n",
    "b={3,4,5}\n",
    "print(a.intersection(b))"
   ]
  },
  {
   "cell_type": "code",
   "execution_count": 13,
   "metadata": {},
   "outputs": [
    {
     "ename": "SyntaxError",
     "evalue": "invalid decimal literal (1998236179.py, line 1)",
     "output_type": "error",
     "traceback": [
      "\u001b[0;36m  Cell \u001b[0;32mIn[13], line 1\u001b[0;36m\u001b[0m\n\u001b[0;31m    m=\"Jack and Jill\" (sometimes \"Jack and Gill\", particularly in earlier versions) is a traditional English nursery rhyme. The Roud Folk Song Index classifies the commonest tune and its variations as number 10266,[1] although it has been set to several others. The original rhyme dates back to the 18th century and different numbers of verses were later added, each with variations in the wording. Throughout the 19th century new versions of the story were written featuring different incidents. A number of theories continue to be advanced to explain the rhyme's historical origin\"\u001b[0m\n\u001b[0m                                                                                                                                                                                                                                                                                                            ^\u001b[0m\n\u001b[0;31mSyntaxError\u001b[0m\u001b[0;31m:\u001b[0m invalid decimal literal\n"
     ]
    }
   ],
   "source": [
    "m=\"Jack and Jill sometimes \"Jack and Gill\", particularly in earlier versions) is a traditional English nursery rhyme. The Roud Folk Song Index classifies the commonest tune and its variations as number 10266,[1] although it has been set to several others. The original rhyme dates back to the 18th century and different numbers of verses were later added, each with variations in the wording. Throughout the 19th century new versions of the story were written featuring different incidents. A number of theories continue to be advanced to explain the rhyme's historical origin\"\n",
    "n=split.(m)"
   ]
  },
  {
   "cell_type": "code",
   "execution_count": 29,
   "metadata": {},
   "outputs": [
    {
     "name": "stdout",
     "output_type": "stream",
     "text": [
      "1\n"
     ]
    }
   ],
   "source": [
    "m=\"I felt happy because I saw the others were happy and because I knew I should feel happy, but I wasn’t really happy.\"\n",
    "z=m.split()\n",
    "k=z.count(i)\n",
    "print(k)\n",
    "\n",
    "\n",
    "   \n",
    "   \n",
    "\n",
    "\n",
    "\n"
   ]
  },
  {
   "cell_type": "code",
   "execution_count": 8,
   "metadata": {},
   "outputs": [
    {
     "name": "stdout",
     "output_type": "stream",
     "text": [
      "['unisole', 'shivi', '3.14', 'true']\n"
     ]
    }
   ],
   "source": [
    "li=['unisole','shivi','3.14','true']\n",
    "print(li)"
   ]
  },
  {
   "cell_type": "code",
   "execution_count": 2,
   "metadata": {},
   "outputs": [
    {
     "name": "stdout",
     "output_type": "stream",
     "text": [
      "welcome yrr shivi\n",
      "welcome yrr riyaan\n",
      "welcome yrr satvik\n",
      "welcome yrr arav\n",
      "welcome yrr rudransh\n"
     ]
    }
   ],
   "source": [
    "students=[\"shivi\",\"riyaan\",\"satvik\",\"arav\",\"rudransh\"]\n",
    "for student in students:\n",
    "    print(\"welcome yrr\",student)"
   ]
  },
  {
   "cell_type": "code",
   "execution_count": null,
   "metadata": {},
   "outputs": [],
   "source": []
  },
  {
   "cell_type": "code",
   "execution_count": 1,
   "metadata": {},
   "outputs": [
    {
     "name": "stdout",
     "output_type": "stream",
     "text": [
      "sum of two nos: 123\n"
     ]
    }
   ],
   "source": [
    "x=int(input(\"enter a no:\"))\n",
    "y=int(input(\"enter another no:\"))\n",
    "z=x+y\n",
    "print(\"sum of two nos:\",z)"
   ]
  }
 ],
 "metadata": {
  "kernelspec": {
   "display_name": "base",
   "language": "python",
   "name": "python3"
  },
  "language_info": {
   "codemirror_mode": {
    "name": "ipython",
    "version": 3
   },
   "file_extension": ".py",
   "mimetype": "text/x-python",
   "name": "python",
   "nbconvert_exporter": "python",
   "pygments_lexer": "ipython3",
   "version": "3.12.7"
  }
 },
 "nbformat": 4,
 "nbformat_minor": 2
}
