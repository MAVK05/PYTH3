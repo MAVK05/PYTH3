{
 "cells": [
  {
   "cell_type": "code",
   "execution_count": 1,
   "id": "f6737077",
   "metadata": {},
   "outputs": [
    {
     "name": "stdout",
     "output_type": "stream",
     "text": [
      "102\n"
     ]
    }
   ],
   "source": [
    "n = input(\"enter a character:\")\n",
    "print(f\"{ord(n)}\")"
   ]
  },
  {
   "cell_type": "code",
   "execution_count": 13,
   "id": "80327665",
   "metadata": {},
   "outputs": [
    {
     "name": "stdout",
     "output_type": "stream",
     "text": [
      "Deductions:\n",
      "      Fedral deduction:19.50     \n",
      "      State Withholding:8.78      \n",
      "      Total Deduction:28.27     \n",
      "      Net Pay:69.22     \n"
     ]
    }
   ],
   "source": [
    "a = input(\"Enter the name:\")\n",
    "b = float(input(\"enter the number of hours you worked:\"))\n",
    "c = float(input(\"enter hourly pay:\"))\n",
    "d = float(input(\"enter fedral tax rate:\"))\n",
    "e = float(input(\"enter state tax with holding rate\"))\n",
    "\n",
    "gp = b*c\n",
    "fd = ((d*100)/100)*gp\n",
    "sw = ((e*100)/100)*gp\n",
    "td = fd+sw\n",
    "net = gp - td\n",
    "spaces = \" \"*6\n",
    "\n",
    "print(f\"Deductions:\")\n",
    "print(f\"{spaces}\" + f\"Fedral deduction:{fd:<10.2f}\")\n",
    "print(f\"{spaces}\" + f\"State Withholding:{sw:<10.2f}\")\n",
    "print(f\"{spaces}\" + f\"Total Deduction:{td:<10.2f}\")\n",
    "print(f\"{spaces}\" f\"Net Pay:{net:<10.2f}\")"
   ]
  },
  {
   "cell_type": "code",
   "execution_count": 9,
   "id": "413c3737",
   "metadata": {},
   "outputs": [
    {
     "name": "stdout",
     "output_type": "stream",
     "text": [
      "my nane is 🐱\n"
     ]
    }
   ],
   "source": [
    "a = input(\"enter your sentence:\")\n",
    "m = a.replace(\"meow\",\"\\U0001F431\")\n",
    "print(f\"{m}\")"
   ]
  },
  {
   "cell_type": "code",
   "execution_count": 18,
   "id": "88fb5a5d",
   "metadata": {},
   "outputs": [
    {
     "name": "stdout",
     "output_type": "stream",
     "text": [
      "Satisfactory\n"
     ]
    }
   ],
   "source": [
    "a = input(\"enter a your grade:\")\n",
    "b = str(a)\n",
    "x = b.upper()\n",
    "\n",
    "if ((x == 'A') or (x == '-A')):\n",
    "    print(f\"Excellent\")\n",
    "    \n",
    "elif((x == 'B') or (x == '-B')):\n",
    "    print(f\"Good\")\n",
    "\n",
    "elif((x == 'C') or (x == '-C')):\n",
    "    print(f'Satisfactory')\n",
    "\n",
    "elif((x == 'D') or (x == '-D')):\n",
    "    print(f\"Passing\")\n",
    "\n",
    "else:\n",
    "    print(f\"Failed\")           \n",
    "\n"
   ]
  },
  {
   "cell_type": "code",
   "execution_count": 20,
   "id": "56257a7f",
   "metadata": {},
   "outputs": [
    {
     "name": "stdout",
     "output_type": "stream",
     "text": [
      "It's a consonant\n"
     ]
    }
   ],
   "source": [
    "x = input(\"enter the letter:\")\n",
    "n = x.upper()\n",
    "if (n == 'A') or (n == 'E') or (n == \"I\") or (n == \"O\") or (n == 'U'):\n",
    "    print(f\"It's a vowel\")\n",
    "else:\n",
    "    print(f\"It's a consonant\")"
   ]
  },
  {
   "cell_type": "code",
   "execution_count": 21,
   "id": "0b3306a9",
   "metadata": {},
   "outputs": [
    {
     "name": "stdout",
     "output_type": "stream",
     "text": [
      "Saturday\n"
     ]
    }
   ],
   "source": [
    "from datetime import datetime\n",
    "\n",
    "date_input = input(\"Enter a date (DD/MM/YYYY): \")\n",
    "date_object = datetime.strptime(date_input, \"%d/%m/%Y\")\n",
    "print(date_object.strftime(\"%A\"))\n"
   ]
  },
  {
   "cell_type": "code",
   "execution_count": 23,
   "id": "e50680b1",
   "metadata": {},
   "outputs": [
    {
     "ename": "NameError",
     "evalue": "name 'DD' is not defined",
     "output_type": "error",
     "traceback": [
      "\u001b[0;31m---------------------------------------------------------------------------\u001b[0m",
      "\u001b[0;31mNameError\u001b[0m                                 Traceback (most recent call last)",
      "Cell \u001b[0;32mIn[23], line 5\u001b[0m\n\u001b[1;32m      3\u001b[0m a \u001b[38;5;241m=\u001b[39m \u001b[38;5;28minput\u001b[39m(\u001b[38;5;124m\"\u001b[39m\u001b[38;5;124menter a date (DD/MM/YYYY): \u001b[39m\u001b[38;5;124m\"\u001b[39m)\n\u001b[1;32m      4\u001b[0m b \u001b[38;5;241m=\u001b[39m datetime\u001b[38;5;241m.\u001b[39mstrptime(a ,\u001b[38;5;124m\"\u001b[39m\u001b[38;5;132;01m%d\u001b[39;00m\u001b[38;5;124m/\u001b[39m\u001b[38;5;124m%\u001b[39m\u001b[38;5;124mm/\u001b[39m\u001b[38;5;124m%\u001b[39m\u001b[38;5;124mY\u001b[39m\u001b[38;5;124m\"\u001b[39m)\n\u001b[0;32m----> 5\u001b[0m \u001b[38;5;28mprint\u001b[39m(\u001b[38;5;124mf\u001b[39m\u001b[38;5;124m\"\u001b[39m\u001b[38;5;124mThe day of the week for\u001b[39m\u001b[38;5;124m\"\u001b[39m,(DD\u001b[38;5;241m/\u001b[39mMM\u001b[38;5;241m/\u001b[39mYYYY),\u001b[38;5;124mf\u001b[39m\u001b[38;5;124m\"\u001b[39m\u001b[38;5;124mis :\u001b[39m\u001b[38;5;124m\"\u001b[39m,{b})\n",
      "\u001b[0;31mNameError\u001b[0m: name 'DD' is not defined"
     ]
    }
   ],
   "source": [
    "from datetime import datetime\n",
    "\n",
    "a = input(\"enter a date (DD/MM/YYYY): \")\n",
    "b = datetime.strptime(a ,\"%d/%m/%Y\")\n",
    "print(f\"The day of the week for\",(DD/MM/YYYY),f\"is :\",{b})"
   ]
  },
  {
   "cell_type": "code",
   "execution_count": 26,
   "id": "c0d5e91c",
   "metadata": {},
   "outputs": [
    {
     "ename": "SyntaxError",
     "evalue": "invalid syntax (2419586802.py, line 4)",
     "output_type": "error",
     "traceback": [
      "\u001b[0;36m  Cell \u001b[0;32mIn[26], line 4\u001b[0;36m\u001b[0m\n\u001b[0;31m    print(f\"(The time persently is:)\",{now: %d/%m/%Y})\u001b[0m\n\u001b[0m                                            ^\u001b[0m\n\u001b[0;31mSyntaxError\u001b[0m\u001b[0;31m:\u001b[0m invalid syntax\n"
     ]
    }
   ],
   "source": [
    "from datetime import datetime\n",
    "\n",
    "now = datetime.now()\n",
    "print(f\"(The time persently is:)\",{now: %d/%m/%Y})"
   ]
  },
  {
   "cell_type": "code",
   "execution_count": 30,
   "id": "e2678f2f",
   "metadata": {},
   "outputs": [
    {
     "name": "stdout",
     "output_type": "stream",
     "text": [
      "the date is {'05/03/2005'} {'Saturday'}\n"
     ]
    }
   ],
   "source": [
    "from datetime import datetime\n",
    "\n",
    "a = input(\"enter the date(DD/MM/YYYY):\")\n",
    "c = datetime.strptime(a, \"%d/%m/%Y\")\n",
    "b = datetime.strftime(c, \"%A\")\n",
    "print(f\"the date is\",{a},{b})"
   ]
  },
  {
   "cell_type": "code",
   "execution_count": null,
   "id": "c076e577",
   "metadata": {},
   "outputs": [
    {
     "name": "stdout",
     "output_type": "stream",
     "text": [
      "MATHS\n",
      "junior\n"
     ]
    }
   ],
   "source": [
    "a = input(\"enter your major subject code [M C I]:\")\n",
    "b = input(\"Enter your your code [1 2 3 4]:\")\n",
    "x = a.upper()\n",
    "\n",
    "if (x==\"M\"):\n",
    "    y = \"MATHS\"\n",
    "elif (x == \"C\"):\n",
    "    y = \"Computer\"\n",
    "else:\n",
    "    y = \"IT\"\n",
    "\n",
    "if (b == '1'):\n",
    "    z = \"freshmen\"\n",
    "elif (b == \"2\"):\n",
    "    z = \"sopphomore\"\n",
    "elif (b == \"3\"):\n",
    "    z = \"junior\"\n",
    "else:\n",
    "    z = \"senior\"\n",
    "\n",
    "m = y+ \"\\n\" +z\n",
    "print(f\"{m}\")        \n"
   ]
  },
  {
   "cell_type": "code",
   "execution_count": 4,
   "id": "4024d973",
   "metadata": {},
   "outputs": [
    {
     "name": "stdout",
     "output_type": "stream",
     "text": [
      "01110111\n"
     ]
    }
   ],
   "source": [
    "n = input('enter a character:')\n",
    "m = ord(n)\n",
    "print(f\"{m:08b}\")"
   ]
  },
  {
   "cell_type": "code",
   "execution_count": 2,
   "id": "0abba89d",
   "metadata": {},
   "outputs": [
    {
     "ename": "TypeError",
     "evalue": "ord() expected a character, but string of length 3 found",
     "output_type": "error",
     "traceback": [
      "\u001b[0;31m---------------------------------------------------------------------------\u001b[0m",
      "\u001b[0;31mTypeError\u001b[0m                                 Traceback (most recent call last)",
      "Cell \u001b[0;32mIn[2], line 2\u001b[0m\n\u001b[1;32m      1\u001b[0m n \u001b[38;5;241m=\u001b[39m \u001b[38;5;28minput\u001b[39m(\u001b[38;5;124m'\u001b[39m\u001b[38;5;124menter a character:\u001b[39m\u001b[38;5;124m'\u001b[39m)\n\u001b[0;32m----> 2\u001b[0m m \u001b[38;5;241m=\u001b[39m \u001b[38;5;28mord\u001b[39m(n)\n\u001b[1;32m      3\u001b[0m \u001b[38;5;28mprint\u001b[39m(\u001b[38;5;124mf\u001b[39m\u001b[38;5;124m\"\u001b[39m\u001b[38;5;132;01m{\u001b[39;00mm\u001b[38;5;132;01m:\u001b[39;00m\u001b[38;5;124m08b\u001b[39m\u001b[38;5;132;01m}\u001b[39;00m\u001b[38;5;124m\"\u001b[39m)\n",
      "\u001b[0;31mTypeError\u001b[0m: ord() expected a character, but string of length 3 found"
     ]
    }
   ],
   "source": [
    "n = input('enter a character:')\n",
    "m = ord(n)\n",
    "print(f\"{m:08b}\")"
   ]
  },
  {
   "cell_type": "code",
   "execution_count": 21,
   "id": "c3700f92",
   "metadata": {},
   "outputs": [
    {
     "name": "stdout",
     "output_type": "stream",
     "text": [
      "Random letter: W\n"
     ]
    }
   ],
   "source": [
    "import random\n",
    "\n",
    "# Randomly choose uppercase or lowercase\n",
    "if random.choice([True, False]):\n",
    "    # Uppercase letter A-Z (ASCII 65-90)\n",
    "    n = random.randint(65, 90)\n",
    "else:\n",
    "    # Lowercase letter a-z (ASCII 97-122)\n",
    "    n = random.randint(97, 122)\n",
    "\n",
    "letter = chr(n)\n",
    "print(f\"Random letter: {letter}\")\n"
   ]
  },
  {
   "cell_type": "code",
   "execution_count": 1,
   "id": "0c4c1fce",
   "metadata": {},
   "outputs": [
    {
     "name": "stdout",
     "output_type": "stream",
     "text": [
      "01110010\n"
     ]
    }
   ],
   "source": [
    "n = input(\"enter a character:\")\n",
    "m = ord(n)\n",
    "print(f\"{m:08b}\")"
   ]
  },
  {
   "cell_type": "code",
   "execution_count": 10,
   "id": "1b0c723b",
   "metadata": {},
   "outputs": [
    {
     "name": "stdout",
     "output_type": "stream",
     "text": [
      "Random Integer: w\n"
     ]
    }
   ],
   "source": [
    "import random\n",
    "if random.choice([True,False]):\n",
    "    n = random.randint(65,90)\n",
    "else:\n",
    "    n = random.randint(97,122)\n",
    "\n",
    "p = chr(n)\n",
    "print(f\"Random Integer: {p}\")    \n",
    "\n"
   ]
  }
 ],
 "metadata": {
  "kernelspec": {
   "display_name": "base",
   "language": "python",
   "name": "python3"
  },
  "language_info": {
   "codemirror_mode": {
    "name": "ipython",
    "version": 3
   },
   "file_extension": ".py",
   "mimetype": "text/x-python",
   "name": "python",
   "nbconvert_exporter": "python",
   "pygments_lexer": "ipython3",
   "version": "3.13.5"
  }
 },
 "nbformat": 4,
 "nbformat_minor": 5
}
