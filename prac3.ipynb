{
 "cells": [
  {
   "cell_type": "code",
   "execution_count": 1,
   "id": "4897554d",
   "metadata": {},
   "outputs": [
    {
     "name": "stdout",
     "output_type": "stream",
     "text": [
      "1\n"
     ]
    }
   ],
   "source": [
    "print(int(True))"
   ]
  },
  {
   "cell_type": "code",
   "execution_count": 10,
   "id": "a1f4073c",
   "metadata": {},
   "outputs": [
    {
     "name": "stdout",
     "output_type": "stream",
     "text": [
      "4 + 2 = 7 is False\n"
     ]
    }
   ],
   "source": [
    "import random\n",
    "\n",
    "#generate random numbers\n",
    "num1 = random.randint(0,9)\n",
    "num2 = random.randint(0,9)\n",
    "\n",
    "#prompt the user to enter an answer\n",
    "answer = eval(input(\"what is \" + str(num1) + \"+\" + str(num2) + \"?\"))\n",
    "\n",
    "#display result\n",
    "print(num1,\"+\",num2,\"=\",answer,\"is\",num1 + num2 == answer)"
   ]
  },
  {
   "cell_type": "code",
   "execution_count": null,
   "id": "66985e82",
   "metadata": {},
   "outputs": [
    {
     "name": "stdout",
     "output_type": "stream",
     "text": [
      "0 + 2 = 2 is True\n"
     ]
    }
   ],
   "source": [
    "import random\n",
    "#generterandom numbers\n",
    "num1 = random.randint(0,9)\n",
    "num2 = random.randint(0,9)\n",
    "#prompt the user to enter an answer\n",
    "answer = eval(input(\"what is \" + str(num1) + \" + \" + str(num2) + \"? \"))\n",
    "\n",
    "\n",
    "#display result\n",
    "print(num1,\"+\",num2,\"=\",answer,\"is\",num1 + num2 == answer)\n"
   ]
  },
  {
   "cell_type": "code",
   "execution_count": 13,
   "id": "f00eedc2",
   "metadata": {},
   "outputs": [
    {
     "name": "stdout",
     "output_type": "stream",
     "text": [
      "5 + 3 = 8 is True\n"
     ]
    }
   ],
   "source": [
    "\n",
    "import random\n",
    "#generte random numbers\n",
    "num1 = random.randint(0,9)\n",
    "num2 = random.randint(0,9)\n",
    "#promt the user to enter an answer\n",
    "answer = eval(input(\"what is\" + str(num1) + \"+\" + str(num2) + \"?\"))\n",
    "#display result\n",
    "print(num1,\"+\",num2,\"=\",answer,\"is\",num1 + num2 ==answer)"
   ]
  },
  {
   "cell_type": "code",
   "execution_count": null,
   "id": "0e34c356",
   "metadata": {},
   "outputs": [],
   "source": []
  }
 ],
 "metadata": {
  "kernelspec": {
   "display_name": "base",
   "language": "python",
   "name": "python3"
  },
  "language_info": {
   "codemirror_mode": {
    "name": "ipython",
    "version": 3
   },
   "file_extension": ".py",
   "mimetype": "text/x-python",
   "name": "python",
   "nbconvert_exporter": "python",
   "pygments_lexer": "ipython3",
   "version": "3.13.5"
  }
 },
 "nbformat": 4,
 "nbformat_minor": 5
}
